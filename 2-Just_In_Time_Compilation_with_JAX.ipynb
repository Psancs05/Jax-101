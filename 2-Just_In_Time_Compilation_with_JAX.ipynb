{
 "cells": [
  {
   "cell_type": "code",
   "execution_count": null,
   "id": "e15f606a",
   "metadata": {},
   "outputs": [],
   "source": [
    "import jax\n",
    "import jax.numpy as jnp"
   ]
  },
  {
   "cell_type": "code",
   "execution_count": null,
   "id": "fc04d898",
   "metadata": {},
   "outputs": [],
   "source": [
    "x = jnp.arange(100)"
   ]
  },
  {
   "cell_type": "markdown",
   "id": "5f5d9c0a",
   "metadata": {},
   "source": [
    "## How JAX transforms work"
   ]
  },
  {
   "cell_type": "code",
   "execution_count": null,
   "id": "698b4d24",
   "metadata": {},
   "outputs": [],
   "source": [
    "global_list = []\n",
    "\n",
    "def log2(x):\n",
    "    global_list.append(x)\n",
    "    \n",
    "    ln_x = jnp.log(x)\n",
    "    ln_2 = jnp.log(2)\n",
    "    return ln_x/ln_2"
   ]
  },
  {
   "cell_type": "code",
   "execution_count": null,
   "id": "39cabd55",
   "metadata": {},
   "outputs": [],
   "source": [
    "print(jax.make_jaxpr(log2)(3.0))"
   ]
  },
  {
   "cell_type": "code",
   "execution_count": null,
   "id": "408c23a1",
   "metadata": {},
   "outputs": [],
   "source": [
    "def log2_with_print(x):\n",
    "    print(\"printed x:\", x)\n",
    "    ln_x = jnp.log(x)\n",
    "    ln_2 = jnp.log(2.0)\n",
    "    return ln_x / ln_2\n",
    "\n",
    "print(jax.make_jaxpr(log2_with_print)(3.))"
   ]
  },
  {
   "cell_type": "code",
   "execution_count": null,
   "id": "31061f61",
   "metadata": {},
   "outputs": [],
   "source": [
    "def log2_if_rank_2(x):\n",
    "    if x.ndim == 2:\n",
    "        ln_x = jnp.log(x)\n",
    "        ln_2 = jnp.log(2.0)\n",
    "        return ln_x / ln_2\n",
    "    else:\n",
    "        return x\n",
    "\n",
    "print(jax.make_jaxpr(log2_if_rank_2)(jax.numpy.array([1, 2, 3])))"
   ]
  },
  {
   "cell_type": "markdown",
   "id": "a9e58fee",
   "metadata": {},
   "source": [
    "## JIT compiling a function"
   ]
  },
  {
   "cell_type": "code",
   "execution_count": null,
   "id": "a3a9477c",
   "metadata": {},
   "outputs": [],
   "source": [
    "def selu(x, alpha=1.67, lambda_=1.05):\n",
    "    return lambda_ * jnp.where(x > 0, x, alpha * jnp.exp(x) - alpha)"
   ]
  },
  {
   "cell_type": "code",
   "execution_count": null,
   "id": "98992e26",
   "metadata": {},
   "outputs": [],
   "source": [
    "x = jnp.arange(1000000)\n",
    "%timeit selu(x).block_until_ready()"
   ]
  },
  {
   "cell_type": "code",
   "execution_count": null,
   "id": "8d43359e",
   "metadata": {},
   "outputs": [],
   "source": [
    "selu_jit = jax.jit(selu)\n",
    "\n",
    "# Warm up\n",
    "selu_jit(x).block_until_ready()\n",
    "\n",
    "%timeit selu_jit(x).block_until_ready()"
   ]
  },
  {
   "cell_type": "markdown",
   "id": "xY2T9xLZbD1h",
   "metadata": {},
   "source": [
    "## Why can’t we just JIT everything?"
   ]
  },
  {
   "cell_type": "code",
   "execution_count": null,
   "id": "SsZAW1twa5O5",
   "metadata": {},
   "outputs": [],
   "source": [
    "# Condition on value of x.\n",
    "\n",
    "def f(x):\n",
    "  if x > 0:\n",
    "    return x\n",
    "  else:\n",
    "    return 2 * x\n",
    "\n",
    "f_jit = jax.jit(f)\n",
    "f_jit(10)  # Should raise an error. "
   ]
  },
  {
   "cell_type": "code",
   "execution_count": null,
   "id": "ZTrtV1c_bIRZ",
   "metadata": {},
   "outputs": [],
   "source": [
    "# While loop conditioned on x and n.\n",
    "\n",
    "def g(x, n):\n",
    "  i = 0\n",
    "  while i < n:\n",
    "    i += 1\n",
    "  return x + i\n",
    "\n",
    "g_jit = jax.jit(g)\n",
    "g_jit(10, 20)  # Should raise an error. "
   ]
  },
  {
   "cell_type": "markdown",
   "id": "DTud1TcxbWj3",
   "metadata": {},
   "source": [
    "The problem is that we tried to condition on the value of an input to the function being jitted"
   ]
  },
  {
   "cell_type": "markdown",
   "id": "DFiNY8mLbhD7",
   "metadata": {},
   "source": [
    "One way to deal with this problem is to rewrite the code to avoid conditionals on value. \n"
   ]
  },
  {
   "cell_type": "code",
   "execution_count": null,
   "id": "PCqVItoabaPt",
   "metadata": {},
   "outputs": [],
   "source": [
    "# While loop conditioned on x and n with a jitted body.\n",
    "\n",
    "@jax.jit\n",
    "def loop_body(prev_i):\n",
    "  return prev_i + 1\n",
    "\n",
    "def g_inner_jitted(x, n):\n",
    "  i = 0\n",
    "  while i < n:\n",
    "    i = loop_body(i)\n",
    "  return x + i\n",
    "\n",
    "g_inner_jitted(10, 20)"
   ]
  },
  {
   "cell_type": "code",
   "execution_count": null,
   "id": "qk91Gkb1bkJK",
   "metadata": {},
   "outputs": [],
   "source": [
    "f_jit_correct = jax.jit(f, static_argnums=0)\n",
    "print(f_jit_correct(10))"
   ]
  },
  {
   "cell_type": "code",
   "execution_count": null,
   "id": "QqIYQYIEbnhy",
   "metadata": {},
   "outputs": [],
   "source": [
    "g_jit_correct = jax.jit(g, static_argnames=['n'])\n",
    "print(g_jit_correct(10, 20))"
   ]
  },
  {
   "cell_type": "code",
   "execution_count": null,
   "id": "v0hXVvrzbozp",
   "metadata": {},
   "outputs": [],
   "source": [
    "from functools import partial\n",
    "\n",
    "@partial(jax.jit, static_argnames=['n'])\n",
    "def g_jit_decorated(x, n):\n",
    "  i = 0\n",
    "  while i < n:\n",
    "    i += 1\n",
    "  return x + i\n",
    "\n",
    "print(g_jit_decorated(10, 20))"
   ]
  },
  {
   "cell_type": "markdown",
   "id": "rsjgBHJQbq-r",
   "metadata": {},
   "source": [
    "## When to use JIT"
   ]
  },
  {
   "cell_type": "markdown",
   "id": "UqRpTNBgbzWC",
   "metadata": {},
   "source": [
    "In many of the examples above, jitting is not worth it:"
   ]
  },
  {
   "cell_type": "code",
   "execution_count": null,
   "id": "6s_MonBkbp76",
   "metadata": {},
   "outputs": [],
   "source": [
    "print(\"g jitted:\")\n",
    "%timeit g_jit_correct(10, 20).block_until_ready()\n",
    "\n",
    "print(\"g:\")\n",
    "%timeit g(10, 20)"
   ]
  },
  {
   "cell_type": "markdown",
   "id": "I0vIJwwOb0LQ",
   "metadata": {},
   "source": [
    "This is because jax.jit introduces some overhead itself. Therefore, it usually only saves time if the compiled function is complex and you will run it numerous times."
   ]
  },
  {
   "cell_type": "markdown",
   "id": "1_O34u8kb5z2",
   "metadata": {},
   "source": [
    "Generally, you want to jit the largest possible chunk of your computation; ideally, the entire update step. This gives the compiler maximum freedom to optimise."
   ]
  },
  {
   "cell_type": "markdown",
   "id": "fK2cOiitb7CG",
   "metadata": {},
   "source": [
    "## Caching"
   ]
  },
  {
   "cell_type": "code",
   "execution_count": null,
   "id": "VxcfB0e7bt49",
   "metadata": {},
   "outputs": [],
   "source": [
    "from functools import partial\n",
    "\n",
    "def unjitted_loop_body(prev_i):\n",
    "  return prev_i + 1\n",
    "\n",
    "def g_inner_jitted_partial(x, n):\n",
    "  i = 0\n",
    "  while i < n:\n",
    "    # Don't do this! each time the partial returns\n",
    "    # a function with different hash\n",
    "    i = jax.jit(partial(unjitted_loop_body))(i)\n",
    "  return x + i\n",
    "\n",
    "def g_inner_jitted_lambda(x, n):\n",
    "  i = 0\n",
    "  while i < n:\n",
    "    # Don't do this!, lambda will also return\n",
    "    # a function with a different hash\n",
    "    i = jax.jit(lambda x: unjitted_loop_body(x))(i)\n",
    "  return x + i\n",
    "\n",
    "def g_inner_jitted_normal(x, n):\n",
    "  i = 0\n",
    "  while i < n:\n",
    "    # this is OK, since JAX can find the\n",
    "    # cached, compiled function\n",
    "    i = jax.jit(unjitted_loop_body)(i)\n",
    "  return x + i\n",
    "\n",
    "print(\"jit called in a loop with partials:\")\n",
    "%timeit g_inner_jitted_partial(10, 20).block_until_ready()\n",
    "\n",
    "print(\"jit called in a loop with lambdas:\")\n",
    "%timeit g_inner_jitted_lambda(10, 20).block_until_ready()\n",
    "\n",
    "print(\"jit called in a loop with caching:\")\n",
    "%timeit g_inner_jitted_normal(10, 20).block_until_ready()"
   ]
  }
 ],
 "metadata": {
  "colab": {
   "collapsed_sections": [],
   "provenance": []
  },
  "kernelspec": {
   "display_name": "Python 3.9.13 ('deep')",
   "language": "python",
   "name": "python3"
  },
  "language_info": {
   "codemirror_mode": {
    "name": "ipython",
    "version": 3
   },
   "file_extension": ".py",
   "mimetype": "text/x-python",
   "name": "python",
   "nbconvert_exporter": "python",
   "pygments_lexer": "ipython3",
   "version": "3.9.13"
  },
  "vscode": {
   "interpreter": {
    "hash": "0fbb2eb7ecfafb28534253a5b4b910d616254652eb0f191e54e95d07fee3586d"
   }
  }
 },
 "nbformat": 4,
 "nbformat_minor": 5
}
